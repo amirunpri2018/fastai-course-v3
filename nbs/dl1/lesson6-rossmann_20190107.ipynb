{
 "cells": [
  {
   "cell_type": "code",
   "execution_count": 1,
   "metadata": {},
   "outputs": [],
   "source": [
    "%reload_ext autoreload\n",
    "%autoreload 2"
   ]
  },
  {
   "cell_type": "code",
   "execution_count": 2,
   "metadata": {},
   "outputs": [],
   "source": [
    "from fastai.tabular import *"
   ]
  },
  {
   "cell_type": "markdown",
   "metadata": {},
   "source": [
    "# Rossmann"
   ]
  },
  {
   "cell_type": "markdown",
   "metadata": {},
   "source": [
    "## Data preparation"
   ]
  },
  {
   "cell_type": "markdown",
   "metadata": {},
   "source": [
    "To create the feature-engineered *train_clean* and *test_clean* from the Kaggle competition data, run `rossman_data_clean.ipynb`. One important step that deals with time series is this:\n",
    "\n",
    "```python\n",
    "add_datepart(train, \"Date\", drop=False)\n",
    "add_datepart(test, \"Date\", drop=False)\n",
    "```"
   ]
  },
  {
   "cell_type": "code",
   "execution_count": 4,
   "metadata": {},
   "outputs": [
    {
     "data": {
      "text/plain": [
       "[PosixPath('data/rossmann/joined'),\n",
       " PosixPath('data/rossmann/state_names.csv'),\n",
       " PosixPath('data/rossmann/test_clean'),\n",
       " PosixPath('data/rossmann/train_clean'),\n",
       " PosixPath('data/rossmann/googletrend.csv'),\n",
       " PosixPath('data/rossmann/sample_submission.csv'),\n",
       " PosixPath('data/rossmann/test.csv'),\n",
       " PosixPath('data/rossmann/df'),\n",
       " PosixPath('data/rossmann/store.csv'),\n",
       " PosixPath('data/rossmann/train.csv'),\n",
       " PosixPath('data/rossmann/joined_test'),\n",
       " PosixPath('data/rossmann/weather.csv'),\n",
       " PosixPath('data/rossmann/store_states.csv')]"
      ]
     },
     "execution_count": 4,
     "metadata": {},
     "output_type": "execute_result"
    }
   ],
   "source": [
    "path = Path('data/rossmann/')\n",
    "path.ls()"
   ]
  },
  {
   "cell_type": "code",
   "execution_count": 5,
   "metadata": {},
   "outputs": [],
   "source": [
    "train_df = pd.read_pickle(path / 'train_clean')"
   ]
  },
  {
   "cell_type": "code",
   "execution_count": 6,
   "metadata": {
    "collapsed": true
   },
   "outputs": [
    {
     "data": {
      "text/html": [
       "<div>\n",
       "<style scoped>\n",
       "    .dataframe tbody tr th:only-of-type {\n",
       "        vertical-align: middle;\n",
       "    }\n",
       "\n",
       "    .dataframe tbody tr th {\n",
       "        vertical-align: top;\n",
       "    }\n",
       "\n",
       "    .dataframe thead th {\n",
       "        text-align: right;\n",
       "    }\n",
       "</style>\n",
       "<table border=\"1\" class=\"dataframe\">\n",
       "  <thead>\n",
       "    <tr style=\"text-align: right;\">\n",
       "      <th></th>\n",
       "      <th>0</th>\n",
       "      <th>1</th>\n",
       "      <th>2</th>\n",
       "      <th>3</th>\n",
       "      <th>4</th>\n",
       "    </tr>\n",
       "  </thead>\n",
       "  <tbody>\n",
       "    <tr>\n",
       "      <th>index</th>\n",
       "      <td>0</td>\n",
       "      <td>1</td>\n",
       "      <td>2</td>\n",
       "      <td>3</td>\n",
       "      <td>4</td>\n",
       "    </tr>\n",
       "    <tr>\n",
       "      <th>Store</th>\n",
       "      <td>1</td>\n",
       "      <td>2</td>\n",
       "      <td>3</td>\n",
       "      <td>4</td>\n",
       "      <td>5</td>\n",
       "    </tr>\n",
       "    <tr>\n",
       "      <th>DayOfWeek</th>\n",
       "      <td>5</td>\n",
       "      <td>5</td>\n",
       "      <td>5</td>\n",
       "      <td>5</td>\n",
       "      <td>5</td>\n",
       "    </tr>\n",
       "    <tr>\n",
       "      <th>Date</th>\n",
       "      <td>2015-07-31 00:00:00</td>\n",
       "      <td>2015-07-31 00:00:00</td>\n",
       "      <td>2015-07-31 00:00:00</td>\n",
       "      <td>2015-07-31 00:00:00</td>\n",
       "      <td>2015-07-31 00:00:00</td>\n",
       "    </tr>\n",
       "    <tr>\n",
       "      <th>Sales</th>\n",
       "      <td>5263</td>\n",
       "      <td>6064</td>\n",
       "      <td>8314</td>\n",
       "      <td>13995</td>\n",
       "      <td>4822</td>\n",
       "    </tr>\n",
       "    <tr>\n",
       "      <th>Customers</th>\n",
       "      <td>555</td>\n",
       "      <td>625</td>\n",
       "      <td>821</td>\n",
       "      <td>1498</td>\n",
       "      <td>559</td>\n",
       "    </tr>\n",
       "    <tr>\n",
       "      <th>Open</th>\n",
       "      <td>1</td>\n",
       "      <td>1</td>\n",
       "      <td>1</td>\n",
       "      <td>1</td>\n",
       "      <td>1</td>\n",
       "    </tr>\n",
       "    <tr>\n",
       "      <th>Promo</th>\n",
       "      <td>1</td>\n",
       "      <td>1</td>\n",
       "      <td>1</td>\n",
       "      <td>1</td>\n",
       "      <td>1</td>\n",
       "    </tr>\n",
       "    <tr>\n",
       "      <th>StateHoliday</th>\n",
       "      <td>False</td>\n",
       "      <td>False</td>\n",
       "      <td>False</td>\n",
       "      <td>False</td>\n",
       "      <td>False</td>\n",
       "    </tr>\n",
       "    <tr>\n",
       "      <th>SchoolHoliday</th>\n",
       "      <td>1</td>\n",
       "      <td>1</td>\n",
       "      <td>1</td>\n",
       "      <td>1</td>\n",
       "      <td>1</td>\n",
       "    </tr>\n",
       "    <tr>\n",
       "      <th>Year</th>\n",
       "      <td>2015</td>\n",
       "      <td>2015</td>\n",
       "      <td>2015</td>\n",
       "      <td>2015</td>\n",
       "      <td>2015</td>\n",
       "    </tr>\n",
       "    <tr>\n",
       "      <th>Month</th>\n",
       "      <td>7</td>\n",
       "      <td>7</td>\n",
       "      <td>7</td>\n",
       "      <td>7</td>\n",
       "      <td>7</td>\n",
       "    </tr>\n",
       "    <tr>\n",
       "      <th>Week</th>\n",
       "      <td>31</td>\n",
       "      <td>31</td>\n",
       "      <td>31</td>\n",
       "      <td>31</td>\n",
       "      <td>31</td>\n",
       "    </tr>\n",
       "    <tr>\n",
       "      <th>Day</th>\n",
       "      <td>31</td>\n",
       "      <td>31</td>\n",
       "      <td>31</td>\n",
       "      <td>31</td>\n",
       "      <td>31</td>\n",
       "    </tr>\n",
       "    <tr>\n",
       "      <th>Dayofweek</th>\n",
       "      <td>4</td>\n",
       "      <td>4</td>\n",
       "      <td>4</td>\n",
       "      <td>4</td>\n",
       "      <td>4</td>\n",
       "    </tr>\n",
       "    <tr>\n",
       "      <th>Dayofyear</th>\n",
       "      <td>212</td>\n",
       "      <td>212</td>\n",
       "      <td>212</td>\n",
       "      <td>212</td>\n",
       "      <td>212</td>\n",
       "    </tr>\n",
       "    <tr>\n",
       "      <th>Is_month_end</th>\n",
       "      <td>True</td>\n",
       "      <td>True</td>\n",
       "      <td>True</td>\n",
       "      <td>True</td>\n",
       "      <td>True</td>\n",
       "    </tr>\n",
       "    <tr>\n",
       "      <th>Is_month_start</th>\n",
       "      <td>False</td>\n",
       "      <td>False</td>\n",
       "      <td>False</td>\n",
       "      <td>False</td>\n",
       "      <td>False</td>\n",
       "    </tr>\n",
       "    <tr>\n",
       "      <th>Is_quarter_end</th>\n",
       "      <td>False</td>\n",
       "      <td>False</td>\n",
       "      <td>False</td>\n",
       "      <td>False</td>\n",
       "      <td>False</td>\n",
       "    </tr>\n",
       "    <tr>\n",
       "      <th>Is_quarter_start</th>\n",
       "      <td>False</td>\n",
       "      <td>False</td>\n",
       "      <td>False</td>\n",
       "      <td>False</td>\n",
       "      <td>False</td>\n",
       "    </tr>\n",
       "    <tr>\n",
       "      <th>Is_year_end</th>\n",
       "      <td>False</td>\n",
       "      <td>False</td>\n",
       "      <td>False</td>\n",
       "      <td>False</td>\n",
       "      <td>False</td>\n",
       "    </tr>\n",
       "    <tr>\n",
       "      <th>Is_year_start</th>\n",
       "      <td>False</td>\n",
       "      <td>False</td>\n",
       "      <td>False</td>\n",
       "      <td>False</td>\n",
       "      <td>False</td>\n",
       "    </tr>\n",
       "    <tr>\n",
       "      <th>Elapsed</th>\n",
       "      <td>1438300800</td>\n",
       "      <td>1438300800</td>\n",
       "      <td>1438300800</td>\n",
       "      <td>1438300800</td>\n",
       "      <td>1438300800</td>\n",
       "    </tr>\n",
       "    <tr>\n",
       "      <th>StoreType</th>\n",
       "      <td>c</td>\n",
       "      <td>a</td>\n",
       "      <td>a</td>\n",
       "      <td>c</td>\n",
       "      <td>a</td>\n",
       "    </tr>\n",
       "    <tr>\n",
       "      <th>Assortment</th>\n",
       "      <td>a</td>\n",
       "      <td>a</td>\n",
       "      <td>a</td>\n",
       "      <td>c</td>\n",
       "      <td>a</td>\n",
       "    </tr>\n",
       "    <tr>\n",
       "      <th>CompetitionDistance</th>\n",
       "      <td>1270</td>\n",
       "      <td>570</td>\n",
       "      <td>14130</td>\n",
       "      <td>620</td>\n",
       "      <td>29910</td>\n",
       "    </tr>\n",
       "    <tr>\n",
       "      <th>CompetitionOpenSinceMonth</th>\n",
       "      <td>9</td>\n",
       "      <td>11</td>\n",
       "      <td>12</td>\n",
       "      <td>9</td>\n",
       "      <td>4</td>\n",
       "    </tr>\n",
       "    <tr>\n",
       "      <th>CompetitionOpenSinceYear</th>\n",
       "      <td>2008</td>\n",
       "      <td>2007</td>\n",
       "      <td>2006</td>\n",
       "      <td>2009</td>\n",
       "      <td>2015</td>\n",
       "    </tr>\n",
       "    <tr>\n",
       "      <th>Promo2</th>\n",
       "      <td>0</td>\n",
       "      <td>1</td>\n",
       "      <td>1</td>\n",
       "      <td>0</td>\n",
       "      <td>0</td>\n",
       "    </tr>\n",
       "    <tr>\n",
       "      <th>Promo2SinceWeek</th>\n",
       "      <td>1</td>\n",
       "      <td>13</td>\n",
       "      <td>14</td>\n",
       "      <td>1</td>\n",
       "      <td>1</td>\n",
       "    </tr>\n",
       "    <tr>\n",
       "      <th>...</th>\n",
       "      <td>...</td>\n",
       "      <td>...</td>\n",
       "      <td>...</td>\n",
       "      <td>...</td>\n",
       "      <td>...</td>\n",
       "    </tr>\n",
       "    <tr>\n",
       "      <th>Min_Sea_Level_PressurehPa</th>\n",
       "      <td>1015</td>\n",
       "      <td>1017</td>\n",
       "      <td>1017</td>\n",
       "      <td>1014</td>\n",
       "      <td>1016</td>\n",
       "    </tr>\n",
       "    <tr>\n",
       "      <th>Max_VisibilityKm</th>\n",
       "      <td>31</td>\n",
       "      <td>10</td>\n",
       "      <td>31</td>\n",
       "      <td>10</td>\n",
       "      <td>10</td>\n",
       "    </tr>\n",
       "    <tr>\n",
       "      <th>Mean_VisibilityKm</th>\n",
       "      <td>15</td>\n",
       "      <td>10</td>\n",
       "      <td>14</td>\n",
       "      <td>10</td>\n",
       "      <td>10</td>\n",
       "    </tr>\n",
       "    <tr>\n",
       "      <th>Min_VisibilitykM</th>\n",
       "      <td>10</td>\n",
       "      <td>10</td>\n",
       "      <td>10</td>\n",
       "      <td>10</td>\n",
       "      <td>10</td>\n",
       "    </tr>\n",
       "    <tr>\n",
       "      <th>Max_Wind_SpeedKm_h</th>\n",
       "      <td>24</td>\n",
       "      <td>14</td>\n",
       "      <td>14</td>\n",
       "      <td>23</td>\n",
       "      <td>14</td>\n",
       "    </tr>\n",
       "    <tr>\n",
       "      <th>Mean_Wind_SpeedKm_h</th>\n",
       "      <td>11</td>\n",
       "      <td>11</td>\n",
       "      <td>5</td>\n",
       "      <td>16</td>\n",
       "      <td>11</td>\n",
       "    </tr>\n",
       "    <tr>\n",
       "      <th>Max_Gust_SpeedKm_h</th>\n",
       "      <td>NaN</td>\n",
       "      <td>NaN</td>\n",
       "      <td>NaN</td>\n",
       "      <td>NaN</td>\n",
       "      <td>NaN</td>\n",
       "    </tr>\n",
       "    <tr>\n",
       "      <th>Precipitationmm</th>\n",
       "      <td>0</td>\n",
       "      <td>0</td>\n",
       "      <td>0</td>\n",
       "      <td>0</td>\n",
       "      <td>0</td>\n",
       "    </tr>\n",
       "    <tr>\n",
       "      <th>CloudCover</th>\n",
       "      <td>1</td>\n",
       "      <td>4</td>\n",
       "      <td>2</td>\n",
       "      <td>6</td>\n",
       "      <td>4</td>\n",
       "    </tr>\n",
       "    <tr>\n",
       "      <th>Events</th>\n",
       "      <td>Fog</td>\n",
       "      <td>Fog</td>\n",
       "      <td>Fog</td>\n",
       "      <td>NaN</td>\n",
       "      <td>NaN</td>\n",
       "    </tr>\n",
       "    <tr>\n",
       "      <th>WindDirDegrees</th>\n",
       "      <td>13</td>\n",
       "      <td>309</td>\n",
       "      <td>354</td>\n",
       "      <td>282</td>\n",
       "      <td>290</td>\n",
       "    </tr>\n",
       "    <tr>\n",
       "      <th>StateName</th>\n",
       "      <td>Hessen</td>\n",
       "      <td>Thueringen</td>\n",
       "      <td>NordrheinWestfalen</td>\n",
       "      <td>Berlin</td>\n",
       "      <td>Sachsen</td>\n",
       "    </tr>\n",
       "    <tr>\n",
       "      <th>CompetitionOpenSince</th>\n",
       "      <td>2008-09-15 00:00:00</td>\n",
       "      <td>2007-11-15 00:00:00</td>\n",
       "      <td>2006-12-15 00:00:00</td>\n",
       "      <td>2009-09-15 00:00:00</td>\n",
       "      <td>2015-04-15 00:00:00</td>\n",
       "    </tr>\n",
       "    <tr>\n",
       "      <th>CompetitionDaysOpen</th>\n",
       "      <td>2510</td>\n",
       "      <td>2815</td>\n",
       "      <td>3150</td>\n",
       "      <td>2145</td>\n",
       "      <td>107</td>\n",
       "    </tr>\n",
       "    <tr>\n",
       "      <th>CompetitionMonthsOpen</th>\n",
       "      <td>24</td>\n",
       "      <td>24</td>\n",
       "      <td>24</td>\n",
       "      <td>24</td>\n",
       "      <td>3</td>\n",
       "    </tr>\n",
       "    <tr>\n",
       "      <th>Promo2Since</th>\n",
       "      <td>1900-01-01 00:00:00</td>\n",
       "      <td>2010-03-29 00:00:00</td>\n",
       "      <td>2011-04-04 00:00:00</td>\n",
       "      <td>1900-01-01 00:00:00</td>\n",
       "      <td>1900-01-01 00:00:00</td>\n",
       "    </tr>\n",
       "    <tr>\n",
       "      <th>Promo2Days</th>\n",
       "      <td>0</td>\n",
       "      <td>1950</td>\n",
       "      <td>1579</td>\n",
       "      <td>0</td>\n",
       "      <td>0</td>\n",
       "    </tr>\n",
       "    <tr>\n",
       "      <th>Promo2Weeks</th>\n",
       "      <td>0</td>\n",
       "      <td>25</td>\n",
       "      <td>25</td>\n",
       "      <td>0</td>\n",
       "      <td>0</td>\n",
       "    </tr>\n",
       "    <tr>\n",
       "      <th>AfterSchoolHoliday</th>\n",
       "      <td>0</td>\n",
       "      <td>0</td>\n",
       "      <td>0</td>\n",
       "      <td>0</td>\n",
       "      <td>0</td>\n",
       "    </tr>\n",
       "    <tr>\n",
       "      <th>BeforeSchoolHoliday</th>\n",
       "      <td>0</td>\n",
       "      <td>0</td>\n",
       "      <td>0</td>\n",
       "      <td>0</td>\n",
       "      <td>0</td>\n",
       "    </tr>\n",
       "    <tr>\n",
       "      <th>AfterStateHoliday</th>\n",
       "      <td>57</td>\n",
       "      <td>67</td>\n",
       "      <td>57</td>\n",
       "      <td>67</td>\n",
       "      <td>57</td>\n",
       "    </tr>\n",
       "    <tr>\n",
       "      <th>BeforeStateHoliday</th>\n",
       "      <td>0</td>\n",
       "      <td>0</td>\n",
       "      <td>0</td>\n",
       "      <td>0</td>\n",
       "      <td>0</td>\n",
       "    </tr>\n",
       "    <tr>\n",
       "      <th>AfterPromo</th>\n",
       "      <td>0</td>\n",
       "      <td>0</td>\n",
       "      <td>0</td>\n",
       "      <td>0</td>\n",
       "      <td>0</td>\n",
       "    </tr>\n",
       "    <tr>\n",
       "      <th>BeforePromo</th>\n",
       "      <td>0</td>\n",
       "      <td>0</td>\n",
       "      <td>0</td>\n",
       "      <td>0</td>\n",
       "      <td>0</td>\n",
       "    </tr>\n",
       "    <tr>\n",
       "      <th>SchoolHoliday_bw</th>\n",
       "      <td>5</td>\n",
       "      <td>5</td>\n",
       "      <td>5</td>\n",
       "      <td>5</td>\n",
       "      <td>5</td>\n",
       "    </tr>\n",
       "    <tr>\n",
       "      <th>StateHoliday_bw</th>\n",
       "      <td>0</td>\n",
       "      <td>0</td>\n",
       "      <td>0</td>\n",
       "      <td>0</td>\n",
       "      <td>0</td>\n",
       "    </tr>\n",
       "    <tr>\n",
       "      <th>Promo_bw</th>\n",
       "      <td>5</td>\n",
       "      <td>5</td>\n",
       "      <td>5</td>\n",
       "      <td>5</td>\n",
       "      <td>5</td>\n",
       "    </tr>\n",
       "    <tr>\n",
       "      <th>SchoolHoliday_fw</th>\n",
       "      <td>7</td>\n",
       "      <td>1</td>\n",
       "      <td>5</td>\n",
       "      <td>1</td>\n",
       "      <td>1</td>\n",
       "    </tr>\n",
       "    <tr>\n",
       "      <th>StateHoliday_fw</th>\n",
       "      <td>0</td>\n",
       "      <td>0</td>\n",
       "      <td>0</td>\n",
       "      <td>0</td>\n",
       "      <td>0</td>\n",
       "    </tr>\n",
       "    <tr>\n",
       "      <th>Promo_fw</th>\n",
       "      <td>5</td>\n",
       "      <td>1</td>\n",
       "      <td>5</td>\n",
       "      <td>1</td>\n",
       "      <td>1</td>\n",
       "    </tr>\n",
       "  </tbody>\n",
       "</table>\n",
       "<p>93 rows × 5 columns</p>\n",
       "</div>"
      ],
      "text/plain": [
       "                                             0                    1  \\\n",
       "index                                        0                    1   \n",
       "Store                                        1                    2   \n",
       "DayOfWeek                                    5                    5   \n",
       "Date                       2015-07-31 00:00:00  2015-07-31 00:00:00   \n",
       "Sales                                     5263                 6064   \n",
       "Customers                                  555                  625   \n",
       "Open                                         1                    1   \n",
       "Promo                                        1                    1   \n",
       "StateHoliday                             False                False   \n",
       "SchoolHoliday                                1                    1   \n",
       "Year                                      2015                 2015   \n",
       "Month                                        7                    7   \n",
       "Week                                        31                   31   \n",
       "Day                                         31                   31   \n",
       "Dayofweek                                    4                    4   \n",
       "Dayofyear                                  212                  212   \n",
       "Is_month_end                              True                 True   \n",
       "Is_month_start                           False                False   \n",
       "Is_quarter_end                           False                False   \n",
       "Is_quarter_start                         False                False   \n",
       "Is_year_end                              False                False   \n",
       "Is_year_start                            False                False   \n",
       "Elapsed                             1438300800           1438300800   \n",
       "StoreType                                    c                    a   \n",
       "Assortment                                   a                    a   \n",
       "CompetitionDistance                       1270                  570   \n",
       "CompetitionOpenSinceMonth                    9                   11   \n",
       "CompetitionOpenSinceYear                  2008                 2007   \n",
       "Promo2                                       0                    1   \n",
       "Promo2SinceWeek                              1                   13   \n",
       "...                                        ...                  ...   \n",
       "Min_Sea_Level_PressurehPa                 1015                 1017   \n",
       "Max_VisibilityKm                            31                   10   \n",
       "Mean_VisibilityKm                           15                   10   \n",
       "Min_VisibilitykM                            10                   10   \n",
       "Max_Wind_SpeedKm_h                          24                   14   \n",
       "Mean_Wind_SpeedKm_h                         11                   11   \n",
       "Max_Gust_SpeedKm_h                         NaN                  NaN   \n",
       "Precipitationmm                              0                    0   \n",
       "CloudCover                                   1                    4   \n",
       "Events                                     Fog                  Fog   \n",
       "WindDirDegrees                              13                  309   \n",
       "StateName                               Hessen           Thueringen   \n",
       "CompetitionOpenSince       2008-09-15 00:00:00  2007-11-15 00:00:00   \n",
       "CompetitionDaysOpen                       2510                 2815   \n",
       "CompetitionMonthsOpen                       24                   24   \n",
       "Promo2Since                1900-01-01 00:00:00  2010-03-29 00:00:00   \n",
       "Promo2Days                                   0                 1950   \n",
       "Promo2Weeks                                  0                   25   \n",
       "AfterSchoolHoliday                           0                    0   \n",
       "BeforeSchoolHoliday                          0                    0   \n",
       "AfterStateHoliday                           57                   67   \n",
       "BeforeStateHoliday                           0                    0   \n",
       "AfterPromo                                   0                    0   \n",
       "BeforePromo                                  0                    0   \n",
       "SchoolHoliday_bw                             5                    5   \n",
       "StateHoliday_bw                              0                    0   \n",
       "Promo_bw                                     5                    5   \n",
       "SchoolHoliday_fw                             7                    1   \n",
       "StateHoliday_fw                              0                    0   \n",
       "Promo_fw                                     5                    1   \n",
       "\n",
       "                                             2                    3  \\\n",
       "index                                        2                    3   \n",
       "Store                                        3                    4   \n",
       "DayOfWeek                                    5                    5   \n",
       "Date                       2015-07-31 00:00:00  2015-07-31 00:00:00   \n",
       "Sales                                     8314                13995   \n",
       "Customers                                  821                 1498   \n",
       "Open                                         1                    1   \n",
       "Promo                                        1                    1   \n",
       "StateHoliday                             False                False   \n",
       "SchoolHoliday                                1                    1   \n",
       "Year                                      2015                 2015   \n",
       "Month                                        7                    7   \n",
       "Week                                        31                   31   \n",
       "Day                                         31                   31   \n",
       "Dayofweek                                    4                    4   \n",
       "Dayofyear                                  212                  212   \n",
       "Is_month_end                              True                 True   \n",
       "Is_month_start                           False                False   \n",
       "Is_quarter_end                           False                False   \n",
       "Is_quarter_start                         False                False   \n",
       "Is_year_end                              False                False   \n",
       "Is_year_start                            False                False   \n",
       "Elapsed                             1438300800           1438300800   \n",
       "StoreType                                    a                    c   \n",
       "Assortment                                   a                    c   \n",
       "CompetitionDistance                      14130                  620   \n",
       "CompetitionOpenSinceMonth                   12                    9   \n",
       "CompetitionOpenSinceYear                  2006                 2009   \n",
       "Promo2                                       1                    0   \n",
       "Promo2SinceWeek                             14                    1   \n",
       "...                                        ...                  ...   \n",
       "Min_Sea_Level_PressurehPa                 1017                 1014   \n",
       "Max_VisibilityKm                            31                   10   \n",
       "Mean_VisibilityKm                           14                   10   \n",
       "Min_VisibilitykM                            10                   10   \n",
       "Max_Wind_SpeedKm_h                          14                   23   \n",
       "Mean_Wind_SpeedKm_h                          5                   16   \n",
       "Max_Gust_SpeedKm_h                         NaN                  NaN   \n",
       "Precipitationmm                              0                    0   \n",
       "CloudCover                                   2                    6   \n",
       "Events                                     Fog                  NaN   \n",
       "WindDirDegrees                             354                  282   \n",
       "StateName                   NordrheinWestfalen               Berlin   \n",
       "CompetitionOpenSince       2006-12-15 00:00:00  2009-09-15 00:00:00   \n",
       "CompetitionDaysOpen                       3150                 2145   \n",
       "CompetitionMonthsOpen                       24                   24   \n",
       "Promo2Since                2011-04-04 00:00:00  1900-01-01 00:00:00   \n",
       "Promo2Days                                1579                    0   \n",
       "Promo2Weeks                                 25                    0   \n",
       "AfterSchoolHoliday                           0                    0   \n",
       "BeforeSchoolHoliday                          0                    0   \n",
       "AfterStateHoliday                           57                   67   \n",
       "BeforeStateHoliday                           0                    0   \n",
       "AfterPromo                                   0                    0   \n",
       "BeforePromo                                  0                    0   \n",
       "SchoolHoliday_bw                             5                    5   \n",
       "StateHoliday_bw                              0                    0   \n",
       "Promo_bw                                     5                    5   \n",
       "SchoolHoliday_fw                             5                    1   \n",
       "StateHoliday_fw                              0                    0   \n",
       "Promo_fw                                     5                    1   \n",
       "\n",
       "                                             4  \n",
       "index                                        4  \n",
       "Store                                        5  \n",
       "DayOfWeek                                    5  \n",
       "Date                       2015-07-31 00:00:00  \n",
       "Sales                                     4822  \n",
       "Customers                                  559  \n",
       "Open                                         1  \n",
       "Promo                                        1  \n",
       "StateHoliday                             False  \n",
       "SchoolHoliday                                1  \n",
       "Year                                      2015  \n",
       "Month                                        7  \n",
       "Week                                        31  \n",
       "Day                                         31  \n",
       "Dayofweek                                    4  \n",
       "Dayofyear                                  212  \n",
       "Is_month_end                              True  \n",
       "Is_month_start                           False  \n",
       "Is_quarter_end                           False  \n",
       "Is_quarter_start                         False  \n",
       "Is_year_end                              False  \n",
       "Is_year_start                            False  \n",
       "Elapsed                             1438300800  \n",
       "StoreType                                    a  \n",
       "Assortment                                   a  \n",
       "CompetitionDistance                      29910  \n",
       "CompetitionOpenSinceMonth                    4  \n",
       "CompetitionOpenSinceYear                  2015  \n",
       "Promo2                                       0  \n",
       "Promo2SinceWeek                              1  \n",
       "...                                        ...  \n",
       "Min_Sea_Level_PressurehPa                 1016  \n",
       "Max_VisibilityKm                            10  \n",
       "Mean_VisibilityKm                           10  \n",
       "Min_VisibilitykM                            10  \n",
       "Max_Wind_SpeedKm_h                          14  \n",
       "Mean_Wind_SpeedKm_h                         11  \n",
       "Max_Gust_SpeedKm_h                         NaN  \n",
       "Precipitationmm                              0  \n",
       "CloudCover                                   4  \n",
       "Events                                     NaN  \n",
       "WindDirDegrees                             290  \n",
       "StateName                              Sachsen  \n",
       "CompetitionOpenSince       2015-04-15 00:00:00  \n",
       "CompetitionDaysOpen                        107  \n",
       "CompetitionMonthsOpen                        3  \n",
       "Promo2Since                1900-01-01 00:00:00  \n",
       "Promo2Days                                   0  \n",
       "Promo2Weeks                                  0  \n",
       "AfterSchoolHoliday                           0  \n",
       "BeforeSchoolHoliday                          0  \n",
       "AfterStateHoliday                           57  \n",
       "BeforeStateHoliday                           0  \n",
       "AfterPromo                                   0  \n",
       "BeforePromo                                  0  \n",
       "SchoolHoliday_bw                             5  \n",
       "StateHoliday_bw                              0  \n",
       "Promo_bw                                     5  \n",
       "SchoolHoliday_fw                             1  \n",
       "StateHoliday_fw                              0  \n",
       "Promo_fw                                     1  \n",
       "\n",
       "[93 rows x 5 columns]"
      ]
     },
     "execution_count": 6,
     "metadata": {},
     "output_type": "execute_result"
    }
   ],
   "source": [
    "train_df.head().T"
   ]
  },
  {
   "cell_type": "code",
   "execution_count": 7,
   "metadata": {},
   "outputs": [
    {
     "data": {
      "text/plain": [
       "844338"
      ]
     },
     "execution_count": 7,
     "metadata": {},
     "output_type": "execute_result"
    }
   ],
   "source": [
    "n = len(train_df); n"
   ]
  },
  {
   "cell_type": "markdown",
   "metadata": {},
   "source": [
    "### Experimenting with a sample"
   ]
  },
  {
   "cell_type": "code",
   "execution_count": 11,
   "metadata": {},
   "outputs": [],
   "source": [
    "idx = np.random.permutation(range(n))[:2000]\n",
    "idx.sort()"
   ]
  },
  {
   "cell_type": "code",
   "execution_count": 12,
   "metadata": {},
   "outputs": [],
   "source": [
    "small_train_df = train_df.iloc[idx[:1000]]\n",
    "small_test_df = train_df.iloc[idx[1000:]]\n",
    "small_cont_vars = ['CompetitionDistance', 'Mean_Humidity']\n",
    "small_cat_vars = ['Store', 'DayOfWeek', 'PromoInterval']\n",
    "small_train_df = small_train_df[small_cat_vars + small_cont_vars + ['Sales']]\n",
    "small_test_df = small_test_df[small_cat_vars + small_cont_vars + ['Sales']]"
   ]
  },
  {
   "cell_type": "code",
   "execution_count": 13,
   "metadata": {},
   "outputs": [
    {
     "data": {
      "text/html": [
       "<div>\n",
       "<style scoped>\n",
       "    .dataframe tbody tr th:only-of-type {\n",
       "        vertical-align: middle;\n",
       "    }\n",
       "\n",
       "    .dataframe tbody tr th {\n",
       "        vertical-align: top;\n",
       "    }\n",
       "\n",
       "    .dataframe thead th {\n",
       "        text-align: right;\n",
       "    }\n",
       "</style>\n",
       "<table border=\"1\" class=\"dataframe\">\n",
       "  <thead>\n",
       "    <tr style=\"text-align: right;\">\n",
       "      <th></th>\n",
       "      <th>Store</th>\n",
       "      <th>DayOfWeek</th>\n",
       "      <th>PromoInterval</th>\n",
       "      <th>CompetitionDistance</th>\n",
       "      <th>Mean_Humidity</th>\n",
       "      <th>Sales</th>\n",
       "    </tr>\n",
       "  </thead>\n",
       "  <tbody>\n",
       "    <tr>\n",
       "      <th>245</th>\n",
       "      <td>246</td>\n",
       "      <td>5</td>\n",
       "      <td>NaN</td>\n",
       "      <td>4660.0</td>\n",
       "      <td>70</td>\n",
       "      <td>10031</td>\n",
       "    </tr>\n",
       "    <tr>\n",
       "      <th>523</th>\n",
       "      <td>525</td>\n",
       "      <td>5</td>\n",
       "      <td>NaN</td>\n",
       "      <td>1870.0</td>\n",
       "      <td>61</td>\n",
       "      <td>10461</td>\n",
       "    </tr>\n",
       "    <tr>\n",
       "      <th>2403</th>\n",
       "      <td>178</td>\n",
       "      <td>3</td>\n",
       "      <td>NaN</td>\n",
       "      <td>1710.0</td>\n",
       "      <td>55</td>\n",
       "      <td>10766</td>\n",
       "    </tr>\n",
       "    <tr>\n",
       "      <th>2501</th>\n",
       "      <td>276</td>\n",
       "      <td>3</td>\n",
       "      <td>Mar,Jun,Sept,Dec</td>\n",
       "      <td>2960.0</td>\n",
       "      <td>55</td>\n",
       "      <td>3944</td>\n",
       "    </tr>\n",
       "    <tr>\n",
       "      <th>3547</th>\n",
       "      <td>209</td>\n",
       "      <td>2</td>\n",
       "      <td>Jan,Apr,Jul,Oct</td>\n",
       "      <td>11680.0</td>\n",
       "      <td>90</td>\n",
       "      <td>7521</td>\n",
       "    </tr>\n",
       "  </tbody>\n",
       "</table>\n",
       "</div>"
      ],
      "text/plain": [
       "      Store  DayOfWeek     PromoInterval  CompetitionDistance  Mean_Humidity  \\\n",
       "245     246          5               NaN               4660.0             70   \n",
       "523     525          5               NaN               1870.0             61   \n",
       "2403    178          3               NaN               1710.0             55   \n",
       "2501    276          3  Mar,Jun,Sept,Dec               2960.0             55   \n",
       "3547    209          2   Jan,Apr,Jul,Oct              11680.0             90   \n",
       "\n",
       "      Sales  \n",
       "245   10031  \n",
       "523   10461  \n",
       "2403  10766  \n",
       "2501   3944  \n",
       "3547   7521  "
      ]
     },
     "execution_count": 13,
     "metadata": {},
     "output_type": "execute_result"
    }
   ],
   "source": [
    "small_train_df.head()"
   ]
  },
  {
   "cell_type": "code",
   "execution_count": 14,
   "metadata": {},
   "outputs": [
    {
     "data": {
      "text/html": [
       "<div>\n",
       "<style scoped>\n",
       "    .dataframe tbody tr th:only-of-type {\n",
       "        vertical-align: middle;\n",
       "    }\n",
       "\n",
       "    .dataframe tbody tr th {\n",
       "        vertical-align: top;\n",
       "    }\n",
       "\n",
       "    .dataframe thead th {\n",
       "        text-align: right;\n",
       "    }\n",
       "</style>\n",
       "<table border=\"1\" class=\"dataframe\">\n",
       "  <thead>\n",
       "    <tr style=\"text-align: right;\">\n",
       "      <th></th>\n",
       "      <th>Store</th>\n",
       "      <th>DayOfWeek</th>\n",
       "      <th>PromoInterval</th>\n",
       "      <th>CompetitionDistance</th>\n",
       "      <th>Mean_Humidity</th>\n",
       "      <th>Sales</th>\n",
       "    </tr>\n",
       "  </thead>\n",
       "  <tbody>\n",
       "    <tr>\n",
       "      <th>407390</th>\n",
       "      <td>27</td>\n",
       "      <td>2</td>\n",
       "      <td>Jan,Apr,Jul,Oct</td>\n",
       "      <td>60.0</td>\n",
       "      <td>63</td>\n",
       "      <td>15278</td>\n",
       "    </tr>\n",
       "    <tr>\n",
       "      <th>407789</th>\n",
       "      <td>426</td>\n",
       "      <td>2</td>\n",
       "      <td>NaN</td>\n",
       "      <td>250.0</td>\n",
       "      <td>63</td>\n",
       "      <td>7667</td>\n",
       "    </tr>\n",
       "    <tr>\n",
       "      <th>408380</th>\n",
       "      <td>1017</td>\n",
       "      <td>2</td>\n",
       "      <td>NaN</td>\n",
       "      <td>110.0</td>\n",
       "      <td>80</td>\n",
       "      <td>11214</td>\n",
       "    </tr>\n",
       "    <tr>\n",
       "      <th>409325</th>\n",
       "      <td>847</td>\n",
       "      <td>1</td>\n",
       "      <td>Feb,May,Aug,Nov</td>\n",
       "      <td>190.0</td>\n",
       "      <td>64</td>\n",
       "      <td>10440</td>\n",
       "    </tr>\n",
       "    <tr>\n",
       "      <th>410122</th>\n",
       "      <td>498</td>\n",
       "      <td>6</td>\n",
       "      <td>Jan,Apr,Jul,Oct</td>\n",
       "      <td>990.0</td>\n",
       "      <td>75</td>\n",
       "      <td>8645</td>\n",
       "    </tr>\n",
       "  </tbody>\n",
       "</table>\n",
       "</div>"
      ],
      "text/plain": [
       "        Store  DayOfWeek    PromoInterval  CompetitionDistance  Mean_Humidity  \\\n",
       "407390     27          2  Jan,Apr,Jul,Oct                 60.0             63   \n",
       "407789    426          2              NaN                250.0             63   \n",
       "408380   1017          2              NaN                110.0             80   \n",
       "409325    847          1  Feb,May,Aug,Nov                190.0             64   \n",
       "410122    498          6  Jan,Apr,Jul,Oct                990.0             75   \n",
       "\n",
       "        Sales  \n",
       "407390  15278  \n",
       "407789   7667  \n",
       "408380  11214  \n",
       "409325  10440  \n",
       "410122   8645  "
      ]
     },
     "execution_count": 14,
     "metadata": {},
     "output_type": "execute_result"
    }
   ],
   "source": [
    "small_test_df.head()"
   ]
  },
  {
   "cell_type": "code",
   "execution_count": 15,
   "metadata": {},
   "outputs": [],
   "source": [
    "categorify = Categorify(small_cat_vars, small_cont_vars)"
   ]
  },
  {
   "cell_type": "code",
   "execution_count": 16,
   "metadata": {},
   "outputs": [],
   "source": [
    "categorify(small_train_df)\n",
    "categorify(small_test_df, test=True)"
   ]
  },
  {
   "cell_type": "code",
   "execution_count": 17,
   "metadata": {},
   "outputs": [
    {
     "data": {
      "text/html": [
       "<div>\n",
       "<style scoped>\n",
       "    .dataframe tbody tr th:only-of-type {\n",
       "        vertical-align: middle;\n",
       "    }\n",
       "\n",
       "    .dataframe tbody tr th {\n",
       "        vertical-align: top;\n",
       "    }\n",
       "\n",
       "    .dataframe thead th {\n",
       "        text-align: right;\n",
       "    }\n",
       "</style>\n",
       "<table border=\"1\" class=\"dataframe\">\n",
       "  <thead>\n",
       "    <tr style=\"text-align: right;\">\n",
       "      <th></th>\n",
       "      <th>Store</th>\n",
       "      <th>DayOfWeek</th>\n",
       "      <th>PromoInterval</th>\n",
       "      <th>CompetitionDistance</th>\n",
       "      <th>Mean_Humidity</th>\n",
       "      <th>Sales</th>\n",
       "    </tr>\n",
       "  </thead>\n",
       "  <tbody>\n",
       "    <tr>\n",
       "      <th>407390</th>\n",
       "      <td>27.0</td>\n",
       "      <td>2</td>\n",
       "      <td>Jan,Apr,Jul,Oct</td>\n",
       "      <td>60.0</td>\n",
       "      <td>63</td>\n",
       "      <td>15278</td>\n",
       "    </tr>\n",
       "    <tr>\n",
       "      <th>407789</th>\n",
       "      <td>426.0</td>\n",
       "      <td>2</td>\n",
       "      <td>NaN</td>\n",
       "      <td>250.0</td>\n",
       "      <td>63</td>\n",
       "      <td>7667</td>\n",
       "    </tr>\n",
       "    <tr>\n",
       "      <th>408380</th>\n",
       "      <td>NaN</td>\n",
       "      <td>2</td>\n",
       "      <td>NaN</td>\n",
       "      <td>110.0</td>\n",
       "      <td>80</td>\n",
       "      <td>11214</td>\n",
       "    </tr>\n",
       "    <tr>\n",
       "      <th>409325</th>\n",
       "      <td>847.0</td>\n",
       "      <td>1</td>\n",
       "      <td>Feb,May,Aug,Nov</td>\n",
       "      <td>190.0</td>\n",
       "      <td>64</td>\n",
       "      <td>10440</td>\n",
       "    </tr>\n",
       "    <tr>\n",
       "      <th>410122</th>\n",
       "      <td>498.0</td>\n",
       "      <td>6</td>\n",
       "      <td>Jan,Apr,Jul,Oct</td>\n",
       "      <td>990.0</td>\n",
       "      <td>75</td>\n",
       "      <td>8645</td>\n",
       "    </tr>\n",
       "  </tbody>\n",
       "</table>\n",
       "</div>"
      ],
      "text/plain": [
       "        Store DayOfWeek    PromoInterval  CompetitionDistance  Mean_Humidity  \\\n",
       "407390   27.0         2  Jan,Apr,Jul,Oct                 60.0             63   \n",
       "407789  426.0         2              NaN                250.0             63   \n",
       "408380    NaN         2              NaN                110.0             80   \n",
       "409325  847.0         1  Feb,May,Aug,Nov                190.0             64   \n",
       "410122  498.0         6  Jan,Apr,Jul,Oct                990.0             75   \n",
       "\n",
       "        Sales  \n",
       "407390  15278  \n",
       "407789   7667  \n",
       "408380  11214  \n",
       "409325  10440  \n",
       "410122   8645  "
      ]
     },
     "execution_count": 17,
     "metadata": {},
     "output_type": "execute_result"
    }
   ],
   "source": [
    "small_test_df.head()"
   ]
  },
  {
   "cell_type": "code",
   "execution_count": 18,
   "metadata": {},
   "outputs": [
    {
     "data": {
      "text/plain": [
       "Index(['Feb,May,Aug,Nov', 'Jan,Apr,Jul,Oct', 'Mar,Jun,Sept,Dec'], dtype='object')"
      ]
     },
     "execution_count": 18,
     "metadata": {},
     "output_type": "execute_result"
    }
   ],
   "source": [
    "small_train_df.PromoInterval.cat.categories"
   ]
  },
  {
   "cell_type": "code",
   "execution_count": 19,
   "metadata": {},
   "outputs": [
    {
     "data": {
      "text/plain": [
       "245    -1\n",
       "523    -1\n",
       "2403   -1\n",
       "2501    2\n",
       "3547    1\n",
       "dtype: int8"
      ]
     },
     "execution_count": 19,
     "metadata": {},
     "output_type": "execute_result"
    }
   ],
   "source": [
    "small_train_df['PromoInterval'].cat.codes[:5]"
   ]
  },
  {
   "cell_type": "code",
   "execution_count": 20,
   "metadata": {},
   "outputs": [],
   "source": [
    "fill_missing = FillMissing(small_cat_vars, small_cont_vars)"
   ]
  },
  {
   "cell_type": "code",
   "execution_count": 21,
   "metadata": {
    "collapsed": true
   },
   "outputs": [
    {
     "ename": "Exception",
     "evalue": "There are nan values in field CompetitionDistance but there were none in the training set. \n                Please fix those manually.",
     "output_type": "error",
     "traceback": [
      "\u001b[0;31m---------------------------------------------------------------------------\u001b[0m",
      "\u001b[0;31mException\u001b[0m                                 Traceback (most recent call last)",
      "\u001b[0;32m<ipython-input-21-939e7b2bef94>\u001b[0m in \u001b[0;36m<module>\u001b[0;34m\u001b[0m\n\u001b[1;32m      1\u001b[0m \u001b[0mfill_missing\u001b[0m\u001b[0;34m(\u001b[0m\u001b[0msmall_train_df\u001b[0m\u001b[0;34m)\u001b[0m\u001b[0;34m\u001b[0m\u001b[0;34m\u001b[0m\u001b[0m\n\u001b[0;32m----> 2\u001b[0;31m \u001b[0mfill_missing\u001b[0m\u001b[0;34m(\u001b[0m\u001b[0msmall_test_df\u001b[0m\u001b[0;34m,\u001b[0m \u001b[0mtest\u001b[0m\u001b[0;34m=\u001b[0m\u001b[0;32mTrue\u001b[0m\u001b[0;34m)\u001b[0m\u001b[0;34m\u001b[0m\u001b[0;34m\u001b[0m\u001b[0m\n\u001b[0m",
      "\u001b[0;32m~/anaconda3/envs/fastai-v1/lib/python3.6/site-packages/fastai/tabular/transform.py\u001b[0m in \u001b[0;36m__call__\u001b[0;34m(self, df, test)\u001b[0m\n\u001b[1;32m     40\u001b[0m         \u001b[0;34m\"Apply the correct function to `df` depending on `test`.\"\u001b[0m\u001b[0;34m\u001b[0m\u001b[0;34m\u001b[0m\u001b[0m\n\u001b[1;32m     41\u001b[0m         \u001b[0mfunc\u001b[0m \u001b[0;34m=\u001b[0m \u001b[0mself\u001b[0m\u001b[0;34m.\u001b[0m\u001b[0mapply_test\u001b[0m \u001b[0;32mif\u001b[0m \u001b[0mtest\u001b[0m \u001b[0;32melse\u001b[0m \u001b[0mself\u001b[0m\u001b[0;34m.\u001b[0m\u001b[0mapply_train\u001b[0m\u001b[0;34m\u001b[0m\u001b[0;34m\u001b[0m\u001b[0m\n\u001b[0;32m---> 42\u001b[0;31m         \u001b[0mfunc\u001b[0m\u001b[0;34m(\u001b[0m\u001b[0mdf\u001b[0m\u001b[0;34m)\u001b[0m\u001b[0;34m\u001b[0m\u001b[0;34m\u001b[0m\u001b[0m\n\u001b[0m\u001b[1;32m     43\u001b[0m \u001b[0;34m\u001b[0m\u001b[0m\n\u001b[1;32m     44\u001b[0m     \u001b[0;32mdef\u001b[0m \u001b[0mapply_train\u001b[0m\u001b[0;34m(\u001b[0m\u001b[0mself\u001b[0m\u001b[0;34m,\u001b[0m \u001b[0mdf\u001b[0m\u001b[0;34m:\u001b[0m\u001b[0mDataFrame\u001b[0m\u001b[0;34m)\u001b[0m\u001b[0;34m:\u001b[0m\u001b[0;34m\u001b[0m\u001b[0;34m\u001b[0m\u001b[0m\n",
      "\u001b[0;32m~/anaconda3/envs/fastai-v1/lib/python3.6/site-packages/fastai/tabular/transform.py\u001b[0m in \u001b[0;36mapply_test\u001b[0;34m(self, df)\u001b[0m\n\u001b[1;32m     95\u001b[0m             \u001b[0;32melif\u001b[0m \u001b[0mpd\u001b[0m\u001b[0;34m.\u001b[0m\u001b[0misnull\u001b[0m\u001b[0;34m(\u001b[0m\u001b[0mdf\u001b[0m\u001b[0;34m[\u001b[0m\u001b[0mname\u001b[0m\u001b[0;34m]\u001b[0m\u001b[0;34m)\u001b[0m\u001b[0;34m.\u001b[0m\u001b[0msum\u001b[0m\u001b[0;34m(\u001b[0m\u001b[0;34m)\u001b[0m \u001b[0;34m!=\u001b[0m \u001b[0;36m0\u001b[0m\u001b[0;34m:\u001b[0m\u001b[0;34m\u001b[0m\u001b[0;34m\u001b[0m\u001b[0m\n\u001b[1;32m     96\u001b[0m                 raise Exception(f\"\"\"There are nan values in field {name} but there were none in the training set. \n\u001b[0;32m---> 97\u001b[0;31m                 Please fix those manually.\"\"\")\n\u001b[0m\u001b[1;32m     98\u001b[0m \u001b[0;34m\u001b[0m\u001b[0m\n\u001b[1;32m     99\u001b[0m \u001b[0;32mclass\u001b[0m \u001b[0mNormalize\u001b[0m\u001b[0;34m(\u001b[0m\u001b[0mTabularProc\u001b[0m\u001b[0;34m)\u001b[0m\u001b[0;34m:\u001b[0m\u001b[0;34m\u001b[0m\u001b[0;34m\u001b[0m\u001b[0m\n",
      "\u001b[0;31mException\u001b[0m: There are nan values in field CompetitionDistance but there were none in the training set. \n                Please fix those manually."
     ]
    }
   ],
   "source": [
    "fill_missing(small_train_df)\n",
    "fill_missing(small_test_df, test=True)"
   ]
  },
  {
   "cell_type": "markdown",
   "metadata": {},
   "source": [
    "Fix the previous error: https://forums.fast.ai/t/there-are-nan-values-in-field-but-there-were-none-in-the-training-set/32260?u=cedric"
   ]
  },
  {
   "cell_type": "code",
   "execution_count": 66,
   "metadata": {},
   "outputs": [
    {
     "data": {
      "text/plain": [
       "4"
      ]
     },
     "execution_count": 66,
     "metadata": {},
     "output_type": "execute_result"
    }
   ],
   "source": [
    "small_test_df.CompetitionDistance.isnull().sum()"
   ]
  },
  {
   "cell_type": "code",
   "execution_count": 75,
   "metadata": {},
   "outputs": [
    {
     "data": {
      "text/html": [
       "<div>\n",
       "<style scoped>\n",
       "    .dataframe tbody tr th:only-of-type {\n",
       "        vertical-align: middle;\n",
       "    }\n",
       "\n",
       "    .dataframe tbody tr th {\n",
       "        vertical-align: top;\n",
       "    }\n",
       "\n",
       "    .dataframe thead th {\n",
       "        text-align: right;\n",
       "    }\n",
       "</style>\n",
       "<table border=\"1\" class=\"dataframe\">\n",
       "  <thead>\n",
       "    <tr style=\"text-align: right;\">\n",
       "      <th></th>\n",
       "      <th>Store</th>\n",
       "      <th>DayOfWeek</th>\n",
       "      <th>PromoInterval</th>\n",
       "      <th>CompetitionDistance</th>\n",
       "      <th>Mean_Humidity</th>\n",
       "      <th>Sales</th>\n",
       "    </tr>\n",
       "  </thead>\n",
       "  <tbody>\n",
       "    <tr>\n",
       "      <th>413591</th>\n",
       "      <td>NaN</td>\n",
       "      <td>3</td>\n",
       "      <td>NaN</td>\n",
       "      <td>NaN</td>\n",
       "      <td>77</td>\n",
       "      <td>3793</td>\n",
       "    </tr>\n",
       "    <tr>\n",
       "      <th>592154</th>\n",
       "      <td>NaN</td>\n",
       "      <td>6</td>\n",
       "      <td>NaN</td>\n",
       "      <td>NaN</td>\n",
       "      <td>79</td>\n",
       "      <td>4936</td>\n",
       "    </tr>\n",
       "    <tr>\n",
       "      <th>620431</th>\n",
       "      <td>NaN</td>\n",
       "      <td>5</td>\n",
       "      <td>NaN</td>\n",
       "      <td>NaN</td>\n",
       "      <td>68</td>\n",
       "      <td>5776</td>\n",
       "    </tr>\n",
       "    <tr>\n",
       "      <th>810783</th>\n",
       "      <td>NaN</td>\n",
       "      <td>3</td>\n",
       "      <td>Feb,May,Aug,Nov</td>\n",
       "      <td>NaN</td>\n",
       "      <td>88</td>\n",
       "      <td>3839</td>\n",
       "    </tr>\n",
       "  </tbody>\n",
       "</table>\n",
       "</div>"
      ],
      "text/plain": [
       "       Store DayOfWeek    PromoInterval  CompetitionDistance  Mean_Humidity  \\\n",
       "413591   NaN         3              NaN                  NaN             77   \n",
       "592154   NaN         6              NaN                  NaN             79   \n",
       "620431   NaN         5              NaN                  NaN             68   \n",
       "810783   NaN         3  Feb,May,Aug,Nov                  NaN             88   \n",
       "\n",
       "        Sales  \n",
       "413591   3793  \n",
       "592154   4936  \n",
       "620431   5776  \n",
       "810783   3839  "
      ]
     },
     "execution_count": 75,
     "metadata": {},
     "output_type": "execute_result"
    }
   ],
   "source": [
    "small_test_df[small_test_df[\"CompetitionDistance\"].isnull()]"
   ]
  },
  {
   "cell_type": "code",
   "execution_count": 77,
   "metadata": {},
   "outputs": [
    {
     "name": "stdout",
     "output_type": "stream",
     "text": [
      "2290.0\n"
     ]
    }
   ],
   "source": [
    "filler = small_test_df.loc[:,'CompetitionDistance'].median()\n",
    "print(filler)\n",
    "small_test_df.loc[:,'CompetitionDistance'] = small_test_df.loc[:,'CompetitionDistance'].fillna(filler)\n",
    "# small_test_df[small_test_df[\"CompetitionDistance\"] == filler]"
   ]
  },
  {
   "cell_type": "code",
   "execution_count": 79,
   "metadata": {},
   "outputs": [],
   "source": [
    "fill_missing(small_test_df, test=True)"
   ]
  },
  {
   "cell_type": "code",
   "execution_count": null,
   "metadata": {
    "scrolled": true
   },
   "outputs": [],
   "source": [
    "# small_train_df[small_train_df['CompetitionDistance_na'] == True]"
   ]
  },
  {
   "cell_type": "markdown",
   "metadata": {},
   "source": [
    "### Preparing full data set"
   ]
  },
  {
   "cell_type": "code",
   "execution_count": 81,
   "metadata": {},
   "outputs": [],
   "source": [
    "train_df = pd.read_pickle(path / 'train_clean')\n",
    "test_df = pd.read_pickle(path / 'test_clean')"
   ]
  },
  {
   "cell_type": "code",
   "execution_count": 82,
   "metadata": {},
   "outputs": [
    {
     "data": {
      "text/plain": [
       "(844338, 41088)"
      ]
     },
     "execution_count": 82,
     "metadata": {},
     "output_type": "execute_result"
    }
   ],
   "source": [
    "len(train_df), len(test_df)"
   ]
  },
  {
   "cell_type": "code",
   "execution_count": 83,
   "metadata": {},
   "outputs": [],
   "source": [
    "procs = [FillMissing, Categorify, Normalize]"
   ]
  },
  {
   "cell_type": "code",
   "execution_count": 84,
   "metadata": {},
   "outputs": [],
   "source": [
    "cat_vars = ['Store', 'DayOfWeek', 'Year', 'Month', 'Day', 'StateHoliday', 'CompetitionMonthsOpen',\n",
    "    'Promo2Weeks', 'StoreType', 'Assortment', 'PromoInterval', 'CompetitionOpenSinceYear', 'Promo2SinceYear',\n",
    "    'State', 'Week', 'Events', 'Promo_fw', 'Promo_bw', 'StateHoliday_fw', 'StateHoliday_bw',\n",
    "    'SchoolHoliday_fw', 'SchoolHoliday_bw']\n",
    "\n",
    "cont_vars = ['CompetitionDistance', 'Max_TemperatureC', 'Mean_TemperatureC', 'Min_TemperatureC',\n",
    "   'Max_Humidity', 'Mean_Humidity', 'Min_Humidity', 'Max_Wind_SpeedKm_h', \n",
    "   'Mean_Wind_SpeedKm_h', 'CloudCover', 'trend', 'trend_DE',\n",
    "   'AfterStateHoliday', 'BeforeStateHoliday', 'Promo', 'SchoolHoliday']"
   ]
  },
  {
   "cell_type": "code",
   "execution_count": 85,
   "metadata": {},
   "outputs": [],
   "source": [
    "dep_var = 'Sales'\n",
    "df = train_df[cat_vars + cont_vars + [dep_var, 'Date']].copy()"
   ]
  },
  {
   "cell_type": "code",
   "execution_count": 86,
   "metadata": {},
   "outputs": [
    {
     "data": {
      "text/plain": [
       "(Timestamp('2015-08-01 00:00:00'), Timestamp('2015-09-17 00:00:00'))"
      ]
     },
     "execution_count": 86,
     "metadata": {},
     "output_type": "execute_result"
    }
   ],
   "source": [
    "test_df['Date'].min(), test_df['Date'].max()"
   ]
  },
  {
   "cell_type": "code",
   "execution_count": 87,
   "metadata": {},
   "outputs": [
    {
     "data": {
      "text/plain": [
       "41395"
      ]
     },
     "execution_count": 87,
     "metadata": {},
     "output_type": "execute_result"
    }
   ],
   "source": [
    "cut = train_df['Date'][(train_df['Date'] == train_df['Date'][len(test_df)])].index.max()\n",
    "cut"
   ]
  },
  {
   "cell_type": "code",
   "execution_count": 88,
   "metadata": {},
   "outputs": [],
   "source": [
    "valid_idx = range(cut)"
   ]
  },
  {
   "cell_type": "code",
   "execution_count": 93,
   "metadata": {},
   "outputs": [
    {
     "data": {
      "text/plain": [
       "0     5263\n",
       "1     6064\n",
       "2     8314\n",
       "3    13995\n",
       "4     4822\n",
       "Name: Sales, dtype: int64"
      ]
     },
     "execution_count": 93,
     "metadata": {},
     "output_type": "execute_result"
    }
   ],
   "source": [
    "df[dep_var].head()"
   ]
  },
  {
   "cell_type": "code",
   "execution_count": 94,
   "metadata": {},
   "outputs": [],
   "source": [
    "data = (TabularList.from_df(df, path=path, cat_names=cat_vars, cont_names=cont_vars, procs=procs)\n",
    "                   .split_by_idx(valid_idx)\n",
    "                   .label_from_df(cols=dep_var, label_cls=FloatList, log=True)\n",
    "                   .databunch())"
   ]
  },
  {
   "cell_type": "code",
   "execution_count": 95,
   "metadata": {},
   "outputs": [],
   "source": [
    "doc(FloatList)"
   ]
  },
  {
   "cell_type": "markdown",
   "metadata": {},
   "source": [
    "## Model"
   ]
  },
  {
   "cell_type": "code",
   "execution_count": 96,
   "metadata": {},
   "outputs": [],
   "source": [
    "max_log_y = np.log(np.max(train_df['Sales'])*1.2)\n",
    "y_range = torch.tensor([0, max_log_y], device=defaults.device)"
   ]
  },
  {
   "cell_type": "code",
   "execution_count": 98,
   "metadata": {},
   "outputs": [],
   "source": [
    "learn = tabular_learner(data, layers=[1000,500], ps=[0.001,0.01], emb_drop=0.04,\n",
    "                        y_range=y_range, metrics=exp_rmspe)"
   ]
  },
  {
   "cell_type": "code",
   "execution_count": 99,
   "metadata": {},
   "outputs": [
    {
     "data": {
      "text/plain": [
       "TabularModel(\n",
       "  (embeds): ModuleList(\n",
       "    (0): Embedding(1116, 81)\n",
       "    (1): Embedding(8, 5)\n",
       "    (2): Embedding(4, 3)\n",
       "    (3): Embedding(13, 7)\n",
       "    (4): Embedding(32, 11)\n",
       "    (5): Embedding(3, 3)\n",
       "    (6): Embedding(26, 10)\n",
       "    (7): Embedding(27, 10)\n",
       "    (8): Embedding(5, 4)\n",
       "    (9): Embedding(4, 3)\n",
       "    (10): Embedding(4, 3)\n",
       "    (11): Embedding(24, 9)\n",
       "    (12): Embedding(9, 5)\n",
       "    (13): Embedding(13, 7)\n",
       "    (14): Embedding(53, 15)\n",
       "    (15): Embedding(22, 9)\n",
       "    (16): Embedding(7, 5)\n",
       "    (17): Embedding(7, 5)\n",
       "    (18): Embedding(4, 3)\n",
       "    (19): Embedding(4, 3)\n",
       "    (20): Embedding(9, 5)\n",
       "    (21): Embedding(9, 5)\n",
       "    (22): Embedding(3, 3)\n",
       "    (23): Embedding(3, 3)\n",
       "  )\n",
       "  (emb_drop): Dropout(p=0.04)\n",
       "  (bn_cont): BatchNorm1d(16, eps=1e-05, momentum=0.1, affine=True, track_running_stats=True)\n",
       "  (layers): Sequential(\n",
       "    (0): Linear(in_features=233, out_features=1000, bias=True)\n",
       "    (1): ReLU(inplace)\n",
       "    (2): BatchNorm1d(1000, eps=1e-05, momentum=0.1, affine=True, track_running_stats=True)\n",
       "    (3): Dropout(p=0.001)\n",
       "    (4): Linear(in_features=1000, out_features=500, bias=True)\n",
       "    (5): ReLU(inplace)\n",
       "    (6): BatchNorm1d(500, eps=1e-05, momentum=0.1, affine=True, track_running_stats=True)\n",
       "    (7): Dropout(p=0.01)\n",
       "    (8): Linear(in_features=500, out_features=1, bias=True)\n",
       "  )\n",
       ")"
      ]
     },
     "execution_count": 99,
     "metadata": {},
     "output_type": "execute_result"
    }
   ],
   "source": [
    "learn.model"
   ]
  },
  {
   "cell_type": "code",
   "execution_count": 100,
   "metadata": {},
   "outputs": [
    {
     "data": {
      "text/plain": [
       "16"
      ]
     },
     "execution_count": 100,
     "metadata": {},
     "output_type": "execute_result"
    }
   ],
   "source": [
    "len(data.train_ds.cont_names)"
   ]
  },
  {
   "cell_type": "code",
   "execution_count": 101,
   "metadata": {},
   "outputs": [
    {
     "name": "stdout",
     "output_type": "stream",
     "text": [
      "LR Finder is complete, type {learner_name}.recorder.plot() to see the graph.\n"
     ]
    }
   ],
   "source": [
    "learn.lr_find()"
   ]
  },
  {
   "cell_type": "code",
   "execution_count": 128,
   "metadata": {},
   "outputs": [
    {
     "data": {
      "image/png": "[encoded data removed]",
      "text/plain": [
       "<Figure size 432x288 with 1 Axes>"
      ]
     },
     "metadata": {
      "needs_background": "light"
     },
     "output_type": "display_data"
    }
   ],
   "source": [
    "learn.recorder.plot(skip_start=10, skip_end=0)"
   ]
  },
  {
   "cell_type": "code",
   "execution_count": 129,
   "metadata": {},
   "outputs": [
    {
     "data": {
      "text/html": [
       "Total time: 12:32 <p><table style='width:300px; margin-bottom:10px'>\n",
       "  <tr>\n",
       "    <th>epoch</th>\n",
       "    <th>train_loss</th>\n",
       "    <th>valid_loss</th>\n",
       "    <th>exp_rmspe</th>\n",
       "  </tr>\n",
       "  <tr>\n",
       "    <th>1</th>\n",
       "    <th>0.021942</th>\n",
       "    <th>0.024053</th>\n",
       "    <th>0.155830</th>\n",
       "  </tr>\n",
       "  <tr>\n",
       "    <th>2</th>\n",
       "    <th>0.019645</th>\n",
       "    <th>0.017017</th>\n",
       "    <th>0.129867</th>\n",
       "  </tr>\n",
       "  <tr>\n",
       "    <th>3</th>\n",
       "    <th>0.016388</th>\n",
       "    <th>0.021986</th>\n",
       "    <th>0.120790</th>\n",
       "  </tr>\n",
       "  <tr>\n",
       "    <th>4</th>\n",
       "    <th>0.012060</th>\n",
       "    <th>0.012576</th>\n",
       "    <th>0.110928</th>\n",
       "  </tr>\n",
       "  <tr>\n",
       "    <th>5</th>\n",
       "    <th>0.009612</th>\n",
       "    <th>0.010940</th>\n",
       "    <th>0.103163</th>\n",
       "  </tr>\n",
       "</table>\n"
      ],
      "text/plain": [
       "<IPython.core.display.HTML object>"
      ]
     },
     "metadata": {},
     "output_type": "display_data"
    }
   ],
   "source": [
    "learn.fit_one_cycle(5, 1e-3, wd=0.2)"
   ]
  },
  {
   "cell_type": "code",
   "execution_count": 130,
   "metadata": {},
   "outputs": [],
   "source": [
    "learn.save('1')"
   ]
  },
  {
   "cell_type": "code",
   "execution_count": 131,
   "metadata": {},
   "outputs": [
    {
     "data": {
      "image/png": "[encoded data removed]",
      "text/plain": [
       "<Figure size 432x288 with 1 Axes>"
      ]
     },
     "metadata": {
      "needs_background": "light"
     },
     "output_type": "display_data"
    }
   ],
   "source": [
    "learn.recorder.plot_losses(last=-1)"
   ]
  },
  {
   "cell_type": "code",
   "execution_count": 132,
   "metadata": {
    "collapsed": true
   },
   "outputs": [
    {
     "data": {
      "text/plain": [
       "Learner(data=TabularDataBunch;\n",
       "\n",
       "Train: LabelList\n",
       "y: FloatList (802943 items)\n",
       "[FloatItem 9.022926, FloatItem 8.443546, FloatItem 8.547528, FloatItem 8.92758, FloatItem 9.091557]...\n",
       "Path: data/rossmann\n",
       "x: TabularList (802943 items)\n",
       "[TabularLine Store 1115; DayOfWeek 5; Year 2015; Month 6; Day 19; StateHoliday False; CompetitionMonthsOpen 24; Promo2Weeks 25; StoreType d; Assortment c; PromoInterval Mar,Jun,Sept,Dec; CompetitionOpenSinceYear 1900; Promo2SinceYear 2012; State HE; Week 25; Events Rain; Promo_fw 1.0; Promo_bw 5.0; StateHoliday_fw 0.0; StateHoliday_bw 0.0; SchoolHoliday_fw 0.0; SchoolHoliday_bw 0.0; CompetitionDistance_na False; CloudCover_na False; CompetitionDistance -0.0130; Max_TemperatureC 0.1333; Mean_TemperatureC 0.4683; Min_TemperatureC 0.8602; Max_Humidity 0.0780; Mean_Humidity -0.3412; Min_Humidity -0.0811; Max_Wind_SpeedKm_h -0.1780; Mean_Wind_SpeedKm_h 0.1902; CloudCover 0.2552; trend 0.4066; trend_DE 0.5969; AfterStateHoliday -0.7329; BeforeStateHoliday 1.1848; Promo 1.1119; SchoolHoliday -0.4796; , TabularLine Store 1; DayOfWeek 4; Year 2015; Month 6; Day 18; StateHoliday False; CompetitionMonthsOpen 24; Promo2Weeks 0; StoreType c; Assortment a; PromoInterval #na#; CompetitionOpenSinceYear 2008; Promo2SinceYear 1900; State HE; Week 25; Events Rain; Promo_fw 2.0; Promo_bw 4.0; StateHoliday_fw 0.0; StateHoliday_bw 0.0; SchoolHoliday_fw 0.0; SchoolHoliday_bw 0.0; CompetitionDistance_na False; CloudCover_na False; CompetitionDistance -0.5358; Max_TemperatureC 0.8549; Mean_TemperatureC 1.0322; Min_TemperatureC 1.1756; Max_Humidity 0.8653; Mean_Humidity -0.6479; Min_Humidity -1.0487; Max_Wind_SpeedKm_h 0.3768; Mean_Wind_SpeedKm_h 0.1902; CloudCover 0.2552; trend 0.4066; trend_DE 0.5969; AfterStateHoliday -0.7645; BeforeStateHoliday 1.1848; Promo 1.1119; SchoolHoliday -0.4796; , TabularLine Store 2; DayOfWeek 4; Year 2015; Month 6; Day 18; StateHoliday False; CompetitionMonthsOpen 24; Promo2Weeks 25; StoreType a; Assortment a; PromoInterval Jan,Apr,Jul,Oct; CompetitionOpenSinceYear 2007; Promo2SinceYear 2010; State TH; Week 25; Events Rain; Promo_fw 2.0; Promo_bw 4.0; StateHoliday_fw 0.0; StateHoliday_bw 0.0; SchoolHoliday_fw 0.0; SchoolHoliday_bw 0.0; CompetitionDistance_na False; CloudCover_na False; CompetitionDistance -0.6255; Max_TemperatureC 0.6144; Mean_TemperatureC 0.8912; Min_TemperatureC 1.0179; Max_Humidity 0.8653; Mean_Humidity -0.1112; Min_Humidity -0.6413; Max_Wind_SpeedKm_h 0.4878; Mean_Wind_SpeedKm_h 0.3579; CloudCover 0.2552; trend -0.4997; trend_DE 0.5969; AfterStateHoliday -0.4486; BeforeStateHoliday 1.1848; Promo 1.1119; SchoolHoliday -0.4796; , TabularLine Store 3; DayOfWeek 4; Year 2015; Month 6; Day 18; StateHoliday False; CompetitionMonthsOpen 24; Promo2Weeks 25; StoreType a; Assortment a; PromoInterval Jan,Apr,Jul,Oct; CompetitionOpenSinceYear 2006; Promo2SinceYear 2011; State NW; Week 25; Events Rain; Promo_fw 2.0; Promo_bw 4.0; StateHoliday_fw 0.0; StateHoliday_bw 0.0; SchoolHoliday_fw 0.0; SchoolHoliday_bw 0.0; CompetitionDistance_na False; CloudCover_na False; CompetitionDistance 1.1122; Max_TemperatureC 0.7346; Mean_TemperatureC 1.0322; Min_TemperatureC 1.1756; Max_Humidity 0.8653; Mean_Humidity -0.4945; Min_Humidity -0.8959; Max_Wind_SpeedKm_h 0.7097; Mean_Wind_SpeedKm_h 0.3579; CloudCover 0.2552; trend 1.0410; trend_DE 0.5969; AfterStateHoliday -0.7645; BeforeStateHoliday 1.1848; Promo 1.1119; SchoolHoliday -0.4796; , TabularLine Store 4; DayOfWeek 4; Year 2015; Month 6; Day 18; StateHoliday False; CompetitionMonthsOpen 24; Promo2Weeks 0; StoreType c; Assortment c; PromoInterval #na#; CompetitionOpenSinceYear 2009; Promo2SinceYear 1900; State BE; Week 25; Events Rain; Promo_fw 2.0; Promo_bw 4.0; StateHoliday_fw 0.0; StateHoliday_bw 0.0; SchoolHoliday_fw 0.0; SchoolHoliday_bw 0.0; CompetitionDistance_na False; CloudCover_na False; CompetitionDistance -0.6191; Max_TemperatureC 0.8549; Mean_TemperatureC 1.0322; Min_TemperatureC 1.0179; Max_Humidity 0.8653; Mean_Humidity -0.4179; Min_Humidity -0.8450; Max_Wind_SpeedKm_h 0.1549; Mean_Wind_SpeedKm_h 0.3579; CloudCover 0.2552; trend -0.1372; trend_DE 0.5969; AfterStateHoliday -0.4486; BeforeStateHoliday 1.1848; Promo 1.1119; SchoolHoliday -0.4796; ]...\n",
       "Path: data/rossmann;\n",
       "\n",
       "Valid: LabelList\n",
       "y: FloatList (41395 items)\n",
       "[FloatItem 8.568457, FloatItem 8.710125, FloatItem 9.025696, FloatItem 9.546455, FloatItem 8.480944]...\n",
       "Path: data/rossmann\n",
       "x: TabularList (41395 items)\n",
       "[TabularLine Store 1; DayOfWeek 5; Year 2015; Month 7; Day 31; StateHoliday False; CompetitionMonthsOpen 24; Promo2Weeks 0; StoreType c; Assortment a; PromoInterval #na#; CompetitionOpenSinceYear 2008; Promo2SinceYear 1900; State HE; Week 31; Events Fog; Promo_fw 5.0; Promo_bw 5.0; StateHoliday_fw 0.0; StateHoliday_bw 0.0; SchoolHoliday_fw 7.0; SchoolHoliday_bw 5.0; CompetitionDistance_na False; CloudCover_na False; CompetitionDistance -0.5358; Max_TemperatureC 1.0954; Mean_TemperatureC 0.8912; Min_TemperatureC 0.3871; Max_Humidity 0.6029; Mean_Humidity -1.5678; Min_Humidity -1.6598; Max_Wind_SpeedKm_h 0.1549; Mean_Wind_SpeedKm_h -0.1452; CloudCover -2.8229; trend 1.8567; trend_DE 1.8939; AfterStateHoliday 0.5940; BeforeStateHoliday 1.1848; Promo 1.1119; SchoolHoliday 2.0852; , TabularLine Store 2; DayOfWeek 5; Year 2015; Month 7; Day 31; StateHoliday False; CompetitionMonthsOpen 24; Promo2Weeks 25; StoreType a; Assortment a; PromoInterval Jan,Apr,Jul,Oct; CompetitionOpenSinceYear 2007; Promo2SinceYear 2010; State TH; Week 31; Events Fog; Promo_fw 1.0; Promo_bw 5.0; StateHoliday_fw 0.0; StateHoliday_bw 0.0; SchoolHoliday_fw 1.0; SchoolHoliday_bw 5.0; CompetitionDistance_na False; CloudCover_na False; CompetitionDistance -0.6255; Max_TemperatureC 0.6144; Mean_TemperatureC 0.4683; Min_TemperatureC 0.2293; Max_Humidity 0.8653; Mean_Humidity -0.9545; Min_Humidity -1.3033; Max_Wind_SpeedKm_h -0.9548; Mean_Wind_SpeedKm_h -0.1452; CloudCover -0.9761; trend 1.4035; trend_DE 1.8939; AfterStateHoliday 0.9099; BeforeStateHoliday 1.1848; Promo 1.1119; SchoolHoliday 2.0852; , TabularLine Store 3; DayOfWeek 5; Year 2015; Month 7; Day 31; StateHoliday False; CompetitionMonthsOpen 24; Promo2Weeks 25; StoreType a; Assortment a; PromoInterval Jan,Apr,Jul,Oct; CompetitionOpenSinceYear 2006; Promo2SinceYear 2011; State NW; Week 31; Events Fog; Promo_fw 5.0; Promo_bw 5.0; StateHoliday_fw 0.0; StateHoliday_bw 0.0; SchoolHoliday_fw 5.0; SchoolHoliday_bw 5.0; CompetitionDistance_na False; CloudCover_na False; CompetitionDistance 1.1122; Max_TemperatureC 0.8549; Mean_TemperatureC 0.4683; Min_TemperatureC 0.0716; Max_Humidity 0.8653; Mean_Humidity -1.0312; Min_Humidity -1.3542; Max_Wind_SpeedKm_h -0.9548; Mean_Wind_SpeedKm_h -1.1514; CloudCover -2.2073; trend 1.9473; trend_DE 1.8939; AfterStateHoliday 0.5940; BeforeStateHoliday 1.1848; Promo 1.1119; SchoolHoliday 2.0852; , TabularLine Store 4; DayOfWeek 5; Year 2015; Month 7; Day 31; StateHoliday False; CompetitionMonthsOpen 24; Promo2Weeks 0; StoreType c; Assortment c; PromoInterval #na#; CompetitionOpenSinceYear 2009; Promo2SinceYear 1900; State BE; Week 31; Events #na#; Promo_fw 1.0; Promo_bw 5.0; StateHoliday_fw 0.0; StateHoliday_bw 0.0; SchoolHoliday_fw 1.0; SchoolHoliday_bw 5.0; CompetitionDistance_na False; CloudCover_na False; CompetitionDistance -0.6191; Max_TemperatureC 0.6144; Mean_TemperatureC 0.6092; Min_TemperatureC 0.5448; Max_Humidity 0.0780; Mean_Humidity -1.0312; Min_Humidity -1.0487; Max_Wind_SpeedKm_h 0.0439; Mean_Wind_SpeedKm_h 0.6933; CloudCover 0.2552; trend 0.8597; trend_DE 1.8939; AfterStateHoliday 0.9099; BeforeStateHoliday 1.1848; Promo 1.1119; SchoolHoliday 2.0852; , TabularLine Store 5; DayOfWeek 5; Year 2015; Month 7; Day 31; StateHoliday False; CompetitionMonthsOpen 3; Promo2Weeks 0; StoreType a; Assortment a; PromoInterval #na#; CompetitionOpenSinceYear 2015; Promo2SinceYear 1900; State SN; Week 31; Events #na#; Promo_fw 1.0; Promo_bw 5.0; StateHoliday_fw 0.0; StateHoliday_bw 0.0; SchoolHoliday_fw 1.0; SchoolHoliday_bw 5.0; CompetitionDistance_na False; CloudCover_na False; CompetitionDistance 3.1344; Max_TemperatureC 0.7346; Mean_TemperatureC 0.7502; Min_TemperatureC 0.7025; Max_Humidity -1.4966; Mean_Humidity -1.4912; Min_Humidity -1.2524; Max_Wind_SpeedKm_h -0.9548; Mean_Wind_SpeedKm_h -0.1452; CloudCover -0.9761; trend 1.5848; trend_DE 1.8939; AfterStateHoliday 0.5940; BeforeStateHoliday 1.1848; Promo 1.1119; SchoolHoliday 2.0852; ]...\n",
       "Path: data/rossmann;\n",
       "\n",
       "Test: None, model=TabularModel(\n",
       "  (embeds): ModuleList(\n",
       "    (0): Embedding(1116, 81)\n",
       "    (1): Embedding(8, 5)\n",
       "    (2): Embedding(4, 3)\n",
       "    (3): Embedding(13, 7)\n",
       "    (4): Embedding(32, 11)\n",
       "    (5): Embedding(3, 3)\n",
       "    (6): Embedding(26, 10)\n",
       "    (7): Embedding(27, 10)\n",
       "    (8): Embedding(5, 4)\n",
       "    (9): Embedding(4, 3)\n",
       "    (10): Embedding(4, 3)\n",
       "    (11): Embedding(24, 9)\n",
       "    (12): Embedding(9, 5)\n",
       "    (13): Embedding(13, 7)\n",
       "    (14): Embedding(53, 15)\n",
       "    (15): Embedding(22, 9)\n",
       "    (16): Embedding(7, 5)\n",
       "    (17): Embedding(7, 5)\n",
       "    (18): Embedding(4, 3)\n",
       "    (19): Embedding(4, 3)\n",
       "    (20): Embedding(9, 5)\n",
       "    (21): Embedding(9, 5)\n",
       "    (22): Embedding(3, 3)\n",
       "    (23): Embedding(3, 3)\n",
       "  )\n",
       "  (emb_drop): Dropout(p=0.04)\n",
       "  (bn_cont): BatchNorm1d(16, eps=1e-05, momentum=0.1, affine=True, track_running_stats=True)\n",
       "  (layers): Sequential(\n",
       "    (0): Linear(in_features=233, out_features=1000, bias=True)\n",
       "    (1): ReLU(inplace)\n",
       "    (2): BatchNorm1d(1000, eps=1e-05, momentum=0.1, affine=True, track_running_stats=True)\n",
       "    (3): Dropout(p=0.001)\n",
       "    (4): Linear(in_features=1000, out_features=500, bias=True)\n",
       "    (5): ReLU(inplace)\n",
       "    (6): BatchNorm1d(500, eps=1e-05, momentum=0.1, affine=True, track_running_stats=True)\n",
       "    (7): Dropout(p=0.01)\n",
       "    (8): Linear(in_features=500, out_features=1, bias=True)\n",
       "  )\n",
       "), opt_func=functools.partial(<class 'torch.optim.adam.Adam'>, betas=(0.9, 0.99)), loss_func=<fastai.layers.FlattenedLoss object at 0x7f7d90fdf550>, metrics=[<function exp_rmspe at 0x7f7db208e158>], true_wd=True, bn_wd=True, wd=0.01, train_bn=True, path=PosixPath('data/rossmann'), model_dir='models', callback_fns=[<class 'fastai.basic_train.Recorder'>], callbacks=[], layer_groups=[Sequential(\n",
       "  (0): Embedding(1116, 81)\n",
       "  (1): Embedding(8, 5)\n",
       "  (2): Embedding(4, 3)\n",
       "  (3): Embedding(13, 7)\n",
       "  (4): Embedding(32, 11)\n",
       "  (5): Embedding(3, 3)\n",
       "  (6): Embedding(26, 10)\n",
       "  (7): Embedding(27, 10)\n",
       "  (8): Embedding(5, 4)\n",
       "  (9): Embedding(4, 3)\n",
       "  (10): Embedding(4, 3)\n",
       "  (11): Embedding(24, 9)\n",
       "  (12): Embedding(9, 5)\n",
       "  (13): Embedding(13, 7)\n",
       "  (14): Embedding(53, 15)\n",
       "  (15): Embedding(22, 9)\n",
       "  (16): Embedding(7, 5)\n",
       "  (17): Embedding(7, 5)\n",
       "  (18): Embedding(4, 3)\n",
       "  (19): Embedding(4, 3)\n",
       "  (20): Embedding(9, 5)\n",
       "  (21): Embedding(9, 5)\n",
       "  (22): Embedding(3, 3)\n",
       "  (23): Embedding(3, 3)\n",
       "  (24): Dropout(p=0.04)\n",
       "  (25): BatchNorm1d(16, eps=1e-05, momentum=0.1, affine=True, track_running_stats=True)\n",
       "  (26): Linear(in_features=233, out_features=1000, bias=True)\n",
       "  (27): ReLU(inplace)\n",
       "  (28): BatchNorm1d(1000, eps=1e-05, momentum=0.1, affine=True, track_running_stats=True)\n",
       "  (29): Dropout(p=0.001)\n",
       "  (30): Linear(in_features=1000, out_features=500, bias=True)\n",
       "  (31): BatchNorm1d(500, eps=1e-05, momentum=0.1, affine=True, track_running_stats=True)\n",
       "  (32): Dropout(p=0.01)\n",
       "  (33): Linear(in_features=500, out_features=1, bias=True)\n",
       ")])"
      ]
     },
     "execution_count": 132,
     "metadata": {},
     "output_type": "execute_result"
    }
   ],
   "source": [
    "learn.load('1')"
   ]
  },
  {
   "cell_type": "code",
   "execution_count": 133,
   "metadata": {},
   "outputs": [
    {
     "data": {
      "text/html": [
       "Total time: 12:34 <p><table style='width:300px; margin-bottom:10px'>\n",
       "  <tr>\n",
       "    <th>epoch</th>\n",
       "    <th>train_loss</th>\n",
       "    <th>valid_loss</th>\n",
       "    <th>exp_rmspe</th>\n",
       "  </tr>\n",
       "  <tr>\n",
       "    <th>1</th>\n",
       "    <th>0.012550</th>\n",
       "    <th>0.012367</th>\n",
       "    <th>0.106852</th>\n",
       "  </tr>\n",
       "  <tr>\n",
       "    <th>2</th>\n",
       "    <th>0.012358</th>\n",
       "    <th>0.021246</th>\n",
       "    <th>0.111081</th>\n",
       "  </tr>\n",
       "  <tr>\n",
       "    <th>3</th>\n",
       "    <th>0.011525</th>\n",
       "    <th>0.014918</th>\n",
       "    <th>0.111002</th>\n",
       "  </tr>\n",
       "  <tr>\n",
       "    <th>4</th>\n",
       "    <th>0.009461</th>\n",
       "    <th>0.017571</th>\n",
       "    <th>0.111387</th>\n",
       "  </tr>\n",
       "  <tr>\n",
       "    <th>5</th>\n",
       "    <th>0.009007</th>\n",
       "    <th>0.017285</th>\n",
       "    <th>0.108684</th>\n",
       "  </tr>\n",
       "</table>\n"
      ],
      "text/plain": [
       "<IPython.core.display.HTML object>"
      ]
     },
     "metadata": {},
     "output_type": "display_data"
    }
   ],
   "source": [
    "learn.fit_one_cycle(5, 3e-4)"
   ]
  },
  {
   "cell_type": "code",
   "execution_count": 134,
   "metadata": {},
   "outputs": [
    {
     "data": {
      "text/html": [
       "Total time: 12:36 <p><table style='width:300px; margin-bottom:10px'>\n",
       "  <tr>\n",
       "    <th>epoch</th>\n",
       "    <th>train_loss</th>\n",
       "    <th>valid_loss</th>\n",
       "    <th>exp_rmspe</th>\n",
       "  </tr>\n",
       "  <tr>\n",
       "    <th>1</th>\n",
       "    <th>0.010818</th>\n",
       "    <th>0.020555</th>\n",
       "    <th>0.116035</th>\n",
       "  </tr>\n",
       "  <tr>\n",
       "    <th>2</th>\n",
       "    <th>0.011677</th>\n",
       "    <th>0.015560</th>\n",
       "    <th>0.112247</th>\n",
       "  </tr>\n",
       "  <tr>\n",
       "    <th>3</th>\n",
       "    <th>0.010527</th>\n",
       "    <th>0.014982</th>\n",
       "    <th>0.119206</th>\n",
       "  </tr>\n",
       "  <tr>\n",
       "    <th>4</th>\n",
       "    <th>0.011010</th>\n",
       "    <th>0.017705</th>\n",
       "    <th>0.107552</th>\n",
       "  </tr>\n",
       "  <tr>\n",
       "    <th>5</th>\n",
       "    <th>0.009523</th>\n",
       "    <th>0.015204</th>\n",
       "    <th>0.112792</th>\n",
       "  </tr>\n",
       "</table>\n"
      ],
      "text/plain": [
       "<IPython.core.display.HTML object>"
      ]
     },
     "metadata": {},
     "output_type": "display_data"
    }
   ],
   "source": [
    "learn.fit_one_cycle(5, 3e-4)"
   ]
  },
  {
   "cell_type": "code",
   "execution_count": 135,
   "metadata": {},
   "outputs": [],
   "source": [
    "learn.save('2')"
   ]
  },
  {
   "cell_type": "markdown",
   "metadata": {},
   "source": [
    "(10th place in the competition was 0.108)"
   ]
  },
  {
   "cell_type": "markdown",
   "metadata": {},
   "source": [
    "## fin"
   ]
  },
  {
   "cell_type": "code",
   "execution_count": null,
   "metadata": {},
   "outputs": [],
   "source": []
  }
 ],
 "metadata": {
  "kernelspec": {
   "display_name": "Python 3",
   "language": "python",
   "name": "python3"
  },
  "language_info": {
   "codemirror_mode": {
    "name": "ipython",
    "version": 3
   },
   "file_extension": ".py",
   "mimetype": "text/x-python",
   "name": "python",
   "nbconvert_exporter": "python",
   "pygments_lexer": "ipython3",
   "version": "3.6.7"
  }
 },
 "nbformat": 4,
 "nbformat_minor": 2
}
